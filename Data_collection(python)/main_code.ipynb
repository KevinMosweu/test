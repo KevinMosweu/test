{
 "cells": [
  {
   "cell_type": "code",
   "execution_count": 1,
   "metadata": {},
   "outputs": [],
   "source": [
    "import requests\n",
    "import json\n",
    "import pprint as pprint\n",
    "from config import api_key_omdb\n",
    "from config import api_key_tmdb\n",
    "import pandas as pd"
   ]
  },
  {
   "cell_type": "code",
   "execution_count": 2,
   "metadata": {},
   "outputs": [],
   "source": [
    "# New Dependency! Use this to pretty print the JSON\n",
    "# https://docs.python.org/3/library/pprint.html\n",
    "from pprint import pprint"
   ]
  },
  {
   "attachments": {},
   "cell_type": "markdown",
   "metadata": {},
   "source": [
    "# TMDB"
   ]
  },
  {
   "cell_type": "code",
   "execution_count": 3,
   "metadata": {},
   "outputs": [
    {
     "name": "stdout",
     "output_type": "stream",
     "text": [
      "https://api.themoviedb.org/3/discover/movie?api_key=db05765d08db6d23fb65b5b22d8d704e&page=35&vote_count.gte=5000\n"
     ]
    }
   ],
   "source": [
    "# Note that the ?t= is a query param for the t-itle of the\n",
    "# movie we want to search for.\n",
    "url_tmdb=f'https://api.themoviedb.org/3/discover/movie?api_key={api_key_tmdb}&page=35&vote_count.gte=5000'\n",
    "\n",
    "print(url_tmdb)\n"
   ]
  },
  {
   "cell_type": "code",
   "execution_count": 4,
   "metadata": {},
   "outputs": [
    {
     "name": "stdout",
     "output_type": "stream",
     "text": [
      "<Response [200]>\n"
     ]
    }
   ],
   "source": [
    "# Performing a GET request similar to the one we executed\n",
    "# earlier\n",
    "response = requests.get(url_tmdb)\n",
    "print(response)\n",
    "\n"
   ]
  },
  {
   "cell_type": "code",
   "execution_count": 5,
   "metadata": {},
   "outputs": [
    {
     "name": "stdout",
     "output_type": "stream",
     "text": [
      "{'page': 35,\n",
      " 'results': [{'adult': False,\n",
      "              'backdrop_path': '/c6ZuSU54Q5HpBhuOhfWtGHILTGL.jpg',\n",
      "              'genre_ids': [35],\n",
      "              'id': 37735,\n",
      "              'original_language': 'en',\n",
      "              'original_title': 'Easy A',\n",
      "              'overview': 'Olive, an average high school student, sees her '\n",
      "                          'below-the-radar existence turn around overnight '\n",
      "                          \"once she decides to use the school's gossip \"\n",
      "                          'grapevine to advance her social standing. Now her '\n",
      "                          'classmates are turning against her and the school '\n",
      "                          'board is becoming concerned, including her favorite '\n",
      "                          'teacher and the distracted guidance counselor. With '\n",
      "                          'the support of her hilariously idiosyncratic '\n",
      "                          'parents and a little help from a long-time crush, '\n",
      "                          'Olive attempts to take on her notorious new '\n",
      "                          'identity and crush the rumor mill once and for all.',\n",
      "              'popularity': 28.895,\n",
      "              'poster_path': '/pYeY5lBudgWAunG4qlsWCA3PlxM.jpg',\n",
      "              'release_date': '2010-09-16',\n",
      "              'title': 'Easy A',\n",
      "              'video': False,\n",
      "              'vote_average': 6.8,\n",
      "              'vote_count': 6322},\n",
      "             {'adult': False,\n",
      "              'backdrop_path': '/yjGllQUm28R4X9xD9T5xMszirgw.jpg',\n",
      "              'genre_ids': [80, 18],\n",
      "              'id': 235,\n",
      "              'original_language': 'en',\n",
      "              'original_title': 'Stand by Me',\n",
      "              'overview': 'Gordie, Chris, Teddy and Vern are four friends who '\n",
      "                          'decide to hike to find the corpse of Ray Brower, a '\n",
      "                          'local teenager, who was hit by a train while '\n",
      "                          'plucking blueberries in the wild.',\n",
      "              'popularity': 28.717,\n",
      "              'poster_path': '/vz0w9BSehcqjDcJOjRaCk7fgJe7.jpg',\n",
      "              'release_date': '1986-08-08',\n",
      "              'title': 'Stand by Me',\n",
      "              'video': False,\n",
      "              'vote_average': 7.9,\n",
      "              'vote_count': 5034},\n",
      "             {'adult': False,\n",
      "              'backdrop_path': '/g3hni0i9iAQ13jDGOFWavJFlojc.jpg',\n",
      "              'genre_ids': [28, 53],\n",
      "              'id': 341013,\n",
      "              'original_language': 'en',\n",
      "              'original_title': 'Atomic Blonde',\n",
      "              'overview': 'An undercover MI6 agent is sent to Berlin during '\n",
      "                          'the Cold War to investigate the murder of a fellow '\n",
      "                          'agent and recover a missing list of double agents.',\n",
      "              'popularity': 28.695,\n",
      "              'poster_path': '/kV9R5h0Yct1kR8Hf8sJ1nX0Vz4x.jpg',\n",
      "              'release_date': '2017-07-26',\n",
      "              'title': 'Atomic Blonde',\n",
      "              'video': False,\n",
      "              'vote_average': 6.4,\n",
      "              'vote_count': 5713},\n",
      "             {'adult': False,\n",
      "              'backdrop_path': '/z8FzomPxfCb2nv827VWLSI6oYiB.jpg',\n",
      "              'genre_ids': [18, 28, 53, 878],\n",
      "              'id': 9693,\n",
      "              'original_language': 'en',\n",
      "              'original_title': 'Children of Men',\n",
      "              'overview': 'In 2027, in a chaotic world in which humans can no '\n",
      "                          'longer procreate, a former activist agrees to help '\n",
      "                          'transport a miraculously pregnant woman to a '\n",
      "                          \"sanctuary at sea, where her child's birth may help \"\n",
      "                          'scientists save the future of humankind.',\n",
      "              'popularity': 28.616,\n",
      "              'poster_path': '/k9IAS4TehZFcKi4HVByxZNPfqex.jpg',\n",
      "              'release_date': '2006-09-22',\n",
      "              'title': 'Children of Men',\n",
      "              'video': False,\n",
      "              'vote_average': 7.6,\n",
      "              'vote_count': 6261},\n",
      "             {'adult': False,\n",
      "              'backdrop_path': '/fE7RqvVHbGHjBC9NjIjlLh2t4zK.jpg',\n",
      "              'genre_ids': [28, 18, 53],\n",
      "              'id': 2502,\n",
      "              'original_language': 'en',\n",
      "              'original_title': 'The Bourne Supremacy',\n",
      "              'overview': 'When a CIA operation to purchase classified Russian '\n",
      "                          'documents is blown by a rival agent, who then shows '\n",
      "                          'up in the sleepy seaside village where Bourne and '\n",
      "                          'Marie have been living. The pair run for their '\n",
      "                          'lives and Bourne, who promised retaliation should '\n",
      "                          'anyone from his former life attempt contact, is '\n",
      "                          'forced to once again take up his life as a trained '\n",
      "                          'assassin to survive.',\n",
      "              'popularity': 28.57,\n",
      "              'poster_path': '/7IYGiDrquvX3q7e9PV6Pejs6b2g.jpg',\n",
      "              'release_date': '2004-07-23',\n",
      "              'title': 'The Bourne Supremacy',\n",
      "              'video': False,\n",
      "              'vote_average': 7.3,\n",
      "              'vote_count': 6727},\n",
      "             {'adult': False,\n",
      "              'backdrop_path': '/qMTmw6DSHqOXNYXKw2rkZRfU7Y4.jpg',\n",
      "              'genre_ids': [35],\n",
      "              'id': 257211,\n",
      "              'original_language': 'en',\n",
      "              'original_title': 'The Intern',\n",
      "              'overview': '70-year-old widower Ben Whittaker has discovered '\n",
      "                          \"that retirement isn't all it's cracked up to be. \"\n",
      "                          'Seizing an opportunity to get back in the game, he '\n",
      "                          'becomes a senior intern at an online fashion site, '\n",
      "                          'founded and run by Jules Ostin.',\n",
      "              'popularity': 28.566,\n",
      "              'poster_path': '/9UoAC9tu8kIyRy8AcJnGhnH0gOH.jpg',\n",
      "              'release_date': '2015-09-23',\n",
      "              'title': 'The Intern',\n",
      "              'video': False,\n",
      "              'vote_average': 7.2,\n",
      "              'vote_count': 5980},\n",
      "             {'adult': False,\n",
      "              'backdrop_path': '/ns9T8glyF7mYwxrcUHXm22nMf9t.jpg',\n",
      "              'genre_ids': [35, 10749],\n",
      "              'id': 11631,\n",
      "              'original_language': 'en',\n",
      "              'original_title': 'Mamma Mia!',\n",
      "              'overview': 'An independent, single mother who owns a small '\n",
      "                          'hotel on a Greek island is about to marry off the '\n",
      "                          \"spirited young daughter she's raised alone. But, \"\n",
      "                          'the daughter has secretly invited three of her '\n",
      "                          \"mother's ex-lovers in the hopes of finding her \"\n",
      "                          'biological father.',\n",
      "              'popularity': 28.534,\n",
      "              'poster_path': '/zdUA4FNHbXPadzVOJiU0Rgn6cHR.jpg',\n",
      "              'release_date': '2008-07-03',\n",
      "              'title': 'Mamma Mia!',\n",
      "              'video': False,\n",
      "              'vote_average': 7,\n",
      "              'vote_count': 5829},\n",
      "             {'adult': False,\n",
      "              'backdrop_path': '/1P4vCGTvJc13VxejbRLbHA1dT6f.jpg',\n",
      "              'genre_ids': [53, 18, 9648],\n",
      "              'id': 1018,\n",
      "              'original_language': 'en',\n",
      "              'original_title': 'Mulholland Drive',\n",
      "              'overview': 'Blonde Betty Elms has only just arrived in '\n",
      "                          'Hollywood to become a movie star when she meets an '\n",
      "                          'enigmatic brunette with amnesia. Meanwhile, as the '\n",
      "                          \"two set off to solve the second woman's identity, \"\n",
      "                          'filmmaker Adam Kesher runs into ominous trouble '\n",
      "                          'while casting his latest project.',\n",
      "              'popularity': 28.525,\n",
      "              'poster_path': '/tVxGt7uffLVhIIcwuldXOMpFBPX.jpg',\n",
      "              'release_date': '2001-06-06',\n",
      "              'title': 'Mulholland Drive',\n",
      "              'video': False,\n",
      "              'vote_average': 7.8,\n",
      "              'vote_count': 5392},\n",
      "             {'adult': False,\n",
      "              'backdrop_path': '/hPsCR1ny6GnctJkWqeJwihTDD7T.jpg',\n",
      "              'genre_ids': [53, 878, 9648, 10749],\n",
      "              'id': 782,\n",
      "              'original_language': 'en',\n",
      "              'original_title': 'Gattaca',\n",
      "              'overview': 'In a future society in the era of indefinite '\n",
      "                          'eugenics, humans are set on a life course depending '\n",
      "                          'on their DNA. Young Vincent Freeman is born with a '\n",
      "                          'condition that would prevent him from space travel, '\n",
      "                          'yet is determined to infiltrate the GATTACA space '\n",
      "                          'program.',\n",
      "              'popularity': 28.462,\n",
      "              'poster_path': '/eSKr5Fl1MEC7zpAXaLWBWSBjgJq.jpg',\n",
      "              'release_date': '1997-09-07',\n",
      "              'title': 'Gattaca',\n",
      "              'video': False,\n",
      "              'vote_average': 7.5,\n",
      "              'vote_count': 5565},\n",
      "             {'adult': False,\n",
      "              'backdrop_path': '/xXWT0je8dTFFNBq6P2CeTZkPUu2.jpg',\n",
      "              'genre_ids': [12, 28, 53, 9648],\n",
      "              'id': 2059,\n",
      "              'original_language': 'en',\n",
      "              'original_title': 'National Treasure',\n",
      "              'overview': 'Modern treasure hunters, led by archaeologist Ben '\n",
      "                          'Gates, search for a chest of riches rumored to have '\n",
      "                          'been stashed away by George Washington, Thomas '\n",
      "                          'Jefferson and Benjamin Franklin during the '\n",
      "                          \"Revolutionary War. The chest's whereabouts may lie \"\n",
      "                          'in secret clues embedded in the Constitution and '\n",
      "                          'the Declaration of Independence, and Gates is in a '\n",
      "                          'race to find the gold before his enemies do.',\n",
      "              'popularity': 28.351,\n",
      "              'poster_path': '/pxL6E4GBOPUG6CdkO9cUQN5VMwI.jpg',\n",
      "              'release_date': '2004-11-19',\n",
      "              'title': 'National Treasure',\n",
      "              'video': False,\n",
      "              'vote_average': 6.6,\n",
      "              'vote_count': 5651},\n",
      "             {'adult': False,\n",
      "              'backdrop_path': '/f4WzxA4jiYaSKO2Zw07JEYmYFVo.jpg',\n",
      "              'genre_ids': [80, 53],\n",
      "              'id': 298,\n",
      "              'original_language': 'en',\n",
      "              'original_title': \"Ocean's Thirteen\",\n",
      "              'overview': \"Danny Ocean's team of criminals are back and \"\n",
      "                          'composing a plan more personal than ever. When '\n",
      "                          'ruthless casino owner Willy Bank doublecrosses '\n",
      "                          'Reuben Tishkoff, causing a heart attack, Danny '\n",
      "                          'Ocean vows that he and his team will do anything to '\n",
      "                          \"bring down Willy Bank along with everything he's \"\n",
      "                          'got. Even if it means asking for help from an '\n",
      "                          'enemy.',\n",
      "              'popularity': 28.112,\n",
      "              'poster_path': '/w3CH8i6O014SyTCmZdJsGgcVrSW.jpg',\n",
      "              'release_date': '2007-06-06',\n",
      "              'title': \"Ocean's Thirteen\",\n",
      "              'video': False,\n",
      "              'vote_average': 6.7,\n",
      "              'vote_count': 5662},\n",
      "             {'adult': False,\n",
      "              'backdrop_path': '/qcVrlyPFlPgCsmzorvELvpJN9Be.jpg',\n",
      "              'genre_ids': [35, 10749],\n",
      "              'id': 1597,\n",
      "              'original_language': 'en',\n",
      "              'original_title': 'Meet the Parents',\n",
      "              'overview': 'Greg Focker is ready to marry his girlfriend, Pam, '\n",
      "                          'but before he pops the question, he must win over '\n",
      "                          'her formidable father, humorless former CIA agent '\n",
      "                          \"Jack Byrnes, at the wedding of Pam's sister. As \"\n",
      "                          'Greg bends over backward to make a good impression, '\n",
      "                          'his visit to the Byrnes home turns into a hilarious '\n",
      "                          'series of disasters, and everything that can go '\n",
      "                          \"wrong does, all under Jack's critical, hawklike \"\n",
      "                          'gaze.',\n",
      "              'popularity': 28.11,\n",
      "              'poster_path': '/5tXJ9ctuyEOMUFLaeqRisbXowWs.jpg',\n",
      "              'release_date': '2000-10-06',\n",
      "              'title': 'Meet the Parents',\n",
      "              'video': False,\n",
      "              'vote_average': 6.7,\n",
      "              'vote_count': 5340},\n",
      "             {'adult': False,\n",
      "              'backdrop_path': '/5pGWjnM62Zs0S1xRf3TDL1Xizr.jpg',\n",
      "              'genre_ids': [27, 28, 878],\n",
      "              'id': 1576,\n",
      "              'original_language': 'en',\n",
      "              'original_title': 'Resident Evil',\n",
      "              'overview': 'When a virus leaks from a top-secret facility, '\n",
      "                          'turning all resident researchers into ravenous '\n",
      "                          'zombies and their lab animals into mutated hounds '\n",
      "                          'from hell, the government sends in an elite '\n",
      "                          'military task force to contain the outbreak. Alice '\n",
      "                          'and Rain are charged with leading the mission. But '\n",
      "                          'they only have three hours before the pathogen '\n",
      "                          'becomes airborne and infects the world.',\n",
      "              'popularity': 28.082,\n",
      "              'poster_path': '/1UKNef590A0ZaMnxsscIcWuK1Em.jpg',\n",
      "              'release_date': '2002-03-15',\n",
      "              'title': 'Resident Evil',\n",
      "              'video': False,\n",
      "              'vote_average': 6.6,\n",
      "              'vote_count': 5601},\n",
      "             {'adult': False,\n",
      "              'backdrop_path': '/5VF2y1KyrrAL2WAX47odZ7TdelT.jpg',\n",
      "              'genre_ids': [35, 18, 10749],\n",
      "              'id': 449176,\n",
      "              'original_language': 'en',\n",
      "              'original_title': 'Love, Simon',\n",
      "              'overview': 'Everyone deserves a great love story. But for '\n",
      "                          \"seventeen-year old Simon Spier it's a little more \"\n",
      "                          \"complicated: he's yet to tell his family or friends \"\n",
      "                          \"he's gay and he doesn't know the identity of the \"\n",
      "                          \"anonymous classmate he's fallen for online.\",\n",
      "              'popularity': 27.993,\n",
      "              'poster_path': '/5YUYg5q7QfC4IoNwNUtiwdiYKPr.jpg',\n",
      "              'release_date': '2018-02-16',\n",
      "              'title': 'Love, Simon',\n",
      "              'video': False,\n",
      "              'vote_average': 8.1,\n",
      "              'vote_count': 5634},\n",
      "             {'adult': False,\n",
      "              'backdrop_path': '/z2G8VrZI6waLyUfwLeSwLd1HBgv.jpg',\n",
      "              'genre_ids': [35, 18, 10751],\n",
      "              'id': 788,\n",
      "              'original_language': 'en',\n",
      "              'original_title': 'Mrs. Doubtfire',\n",
      "              'overview': 'Loving but irresponsible dad Daniel Hillard, '\n",
      "                          'estranged from his exasperated spouse, is crushed '\n",
      "                          'by a court order allowing only weekly visits with '\n",
      "                          'his kids. When Daniel learns his ex needs a '\n",
      "                          'housekeeper, he gets the job -- disguised as a '\n",
      "                          'British nanny. Soon he becomes not only his '\n",
      "                          \"children's best pal but the kind of parent he \"\n",
      "                          'should have been from the start.',\n",
      "              'popularity': 27.992,\n",
      "              'poster_path': '/hfh5PW7EDBPreBD5BSrVZiBiH96.jpg',\n",
      "              'release_date': '1993-11-24',\n",
      "              'title': 'Mrs. Doubtfire',\n",
      "              'video': False,\n",
      "              'vote_average': 7.2,\n",
      "              'vote_count': 5448},\n",
      "             {'adult': False,\n",
      "              'backdrop_path': '/DztBnZaqmla2sGUW9s8AyOmskT.jpg',\n",
      "              'genre_ids': [18],\n",
      "              'id': 14,\n",
      "              'original_language': 'en',\n",
      "              'original_title': 'American Beauty',\n",
      "              'overview': 'Lester Burnham, a depressed suburban father in a '\n",
      "                          'mid-life crisis, decides to turn his hectic life '\n",
      "                          'around after developing an infatuation with his '\n",
      "                          \"daughter's attractive friend.\",\n",
      "              'popularity': 27.925,\n",
      "              'poster_path': '/wby9315QzVKdW9BonAefg8jGTTb.jpg',\n",
      "              'release_date': '1999-09-15',\n",
      "              'title': 'American Beauty',\n",
      "              'video': False,\n",
      "              'vote_average': 8,\n",
      "              'vote_count': 10917},\n",
      "             {'adult': False,\n",
      "              'backdrop_path': '/mlolzwV6VrKOZJ1SfYbPHXXDD4p.jpg',\n",
      "              'genre_ids': [12, 878],\n",
      "              'id': 329,\n",
      "              'original_language': 'en',\n",
      "              'original_title': 'Jurassic Park',\n",
      "              'overview': 'A wealthy entrepreneur secretly creates a theme '\n",
      "                          'park featuring living dinosaurs drawn from '\n",
      "                          'prehistoric DNA. Before opening day, he invites a '\n",
      "                          'team of experts and his two eager grandchildren to '\n",
      "                          'experience the park and help calm anxious '\n",
      "                          'investors. However, the park is anything but '\n",
      "                          'amusing as the security systems go off-line and the '\n",
      "                          'dinosaurs escape.',\n",
      "              'popularity': 27.669,\n",
      "              'poster_path': '/oU7Oq2kFAAlGqbU4VoAE36g4hoI.jpg',\n",
      "              'release_date': '1993-06-11',\n",
      "              'title': 'Jurassic Park',\n",
      "              'video': False,\n",
      "              'vote_average': 7.9,\n",
      "              'vote_count': 14601},\n",
      "             {'adult': False,\n",
      "              'backdrop_path': '/iYLKMV7PIBtFmtygRrhSiyzcVsF.jpg',\n",
      "              'genre_ids': [12, 35, 10751, 16],\n",
      "              'id': 277834,\n",
      "              'original_language': 'en',\n",
      "              'original_title': 'Moana',\n",
      "              'overview': 'In Ancient Polynesia, when a terrible curse '\n",
      "                          \"incurred by Maui reaches an impetuous Chieftain's \"\n",
      "                          \"daughter's island, she answers the Ocean's call to \"\n",
      "                          'seek out the demigod to set things right.',\n",
      "              'popularity': 27.641,\n",
      "              'poster_path': '/4JeejGugONWpJkbnvL12hVoYEDa.jpg',\n",
      "              'release_date': '2016-10-13',\n",
      "              'title': 'Moana',\n",
      "              'video': False,\n",
      "              'vote_average': 7.6,\n",
      "              'vote_count': 11132},\n",
      "             {'adult': False,\n",
      "              'backdrop_path': '/oGMomeS7bE43eN8SGJUaKvQnmud.jpg',\n",
      "              'genre_ids': [18],\n",
      "              'id': 70,\n",
      "              'original_language': 'en',\n",
      "              'original_title': 'Million Dollar Baby',\n",
      "              'overview': 'Despondent over a painful estrangement from his '\n",
      "                          \"daughter, trainer Frankie Dunn isn't prepared for \"\n",
      "                          'boxer Maggie Fitzgerald to enter his life. But '\n",
      "                          \"Maggie's determined to go pro and to convince Dunn \"\n",
      "                          'and his cohort to help her.',\n",
      "              'popularity': 27.527,\n",
      "              'poster_path': '/2ti3l1OeB8G94yyqfAI7nmMZUbA.jpg',\n",
      "              'release_date': '2004-12-15',\n",
      "              'title': 'Million Dollar Baby',\n",
      "              'video': False,\n",
      "              'vote_average': 8,\n",
      "              'vote_count': 8583},\n",
      "             {'adult': False,\n",
      "              'backdrop_path': '/kDjR3rP5aa102CvAFlVCAdJFyRV.jpg',\n",
      "              'genre_ids': [35, 14],\n",
      "              'id': 62213,\n",
      "              'original_language': 'en',\n",
      "              'original_title': 'Dark Shadows',\n",
      "              'overview': 'Vampire Barnabas Collins is inadvertently freed '\n",
      "                          'from his tomb and emerges into the very changed '\n",
      "                          'world of 1972. He returns to Collinwood Manor to '\n",
      "                          'find that his once-grand estate and family have '\n",
      "                          'fallen into ruin.',\n",
      "              'popularity': 27.489,\n",
      "              'poster_path': '/eteQ3gyMpA0oiWcYX4XoXGry0cB.jpg',\n",
      "              'release_date': '2012-05-09',\n",
      "              'title': 'Dark Shadows',\n",
      "              'video': False,\n",
      "              'vote_average': 6,\n",
      "              'vote_count': 6591}],\n",
      " 'total_pages': 40,\n",
      " 'total_results': 793}\n"
     ]
    }
   ],
   "source": [
    "# Converting the response to JSON, and printing the result.\n",
    "data_tmdb = response.json()\n",
    "pprint(data_tmdb)"
   ]
  },
  {
   "cell_type": "code",
   "execution_count": 6,
   "metadata": {},
   "outputs": [
    {
     "name": "stdout",
     "output_type": "stream",
     "text": [
      "https://api.themoviedb.org/3/discover/movie?api_key=db05765d08db6d23fb65b5b22d8d704e&page=1&vote_count.gte=5000\n",
      "https://api.themoviedb.org/3/discover/movie?api_key=db05765d08db6d23fb65b5b22d8d704e&page=2&vote_count.gte=5000\n",
      "https://api.themoviedb.org/3/discover/movie?api_key=db05765d08db6d23fb65b5b22d8d704e&page=3&vote_count.gte=5000\n",
      "https://api.themoviedb.org/3/discover/movie?api_key=db05765d08db6d23fb65b5b22d8d704e&page=4&vote_count.gte=5000\n",
      "https://api.themoviedb.org/3/discover/movie?api_key=db05765d08db6d23fb65b5b22d8d704e&page=5&vote_count.gte=5000\n",
      "https://api.themoviedb.org/3/discover/movie?api_key=db05765d08db6d23fb65b5b22d8d704e&page=6&vote_count.gte=5000\n",
      "https://api.themoviedb.org/3/discover/movie?api_key=db05765d08db6d23fb65b5b22d8d704e&page=7&vote_count.gte=5000\n",
      "https://api.themoviedb.org/3/discover/movie?api_key=db05765d08db6d23fb65b5b22d8d704e&page=8&vote_count.gte=5000\n",
      "https://api.themoviedb.org/3/discover/movie?api_key=db05765d08db6d23fb65b5b22d8d704e&page=9&vote_count.gte=5000\n",
      "https://api.themoviedb.org/3/discover/movie?api_key=db05765d08db6d23fb65b5b22d8d704e&page=10&vote_count.gte=5000\n",
      "https://api.themoviedb.org/3/discover/movie?api_key=db05765d08db6d23fb65b5b22d8d704e&page=11&vote_count.gte=5000\n",
      "https://api.themoviedb.org/3/discover/movie?api_key=db05765d08db6d23fb65b5b22d8d704e&page=12&vote_count.gte=5000\n",
      "https://api.themoviedb.org/3/discover/movie?api_key=db05765d08db6d23fb65b5b22d8d704e&page=13&vote_count.gte=5000\n",
      "https://api.themoviedb.org/3/discover/movie?api_key=db05765d08db6d23fb65b5b22d8d704e&page=14&vote_count.gte=5000\n",
      "https://api.themoviedb.org/3/discover/movie?api_key=db05765d08db6d23fb65b5b22d8d704e&page=15&vote_count.gte=5000\n",
      "https://api.themoviedb.org/3/discover/movie?api_key=db05765d08db6d23fb65b5b22d8d704e&page=16&vote_count.gte=5000\n",
      "https://api.themoviedb.org/3/discover/movie?api_key=db05765d08db6d23fb65b5b22d8d704e&page=17&vote_count.gte=5000\n",
      "https://api.themoviedb.org/3/discover/movie?api_key=db05765d08db6d23fb65b5b22d8d704e&page=18&vote_count.gte=5000\n",
      "https://api.themoviedb.org/3/discover/movie?api_key=db05765d08db6d23fb65b5b22d8d704e&page=19&vote_count.gte=5000\n",
      "https://api.themoviedb.org/3/discover/movie?api_key=db05765d08db6d23fb65b5b22d8d704e&page=20&vote_count.gte=5000\n",
      "https://api.themoviedb.org/3/discover/movie?api_key=db05765d08db6d23fb65b5b22d8d704e&page=21&vote_count.gte=5000\n",
      "https://api.themoviedb.org/3/discover/movie?api_key=db05765d08db6d23fb65b5b22d8d704e&page=22&vote_count.gte=5000\n",
      "https://api.themoviedb.org/3/discover/movie?api_key=db05765d08db6d23fb65b5b22d8d704e&page=23&vote_count.gte=5000\n",
      "https://api.themoviedb.org/3/discover/movie?api_key=db05765d08db6d23fb65b5b22d8d704e&page=24&vote_count.gte=5000\n",
      "https://api.themoviedb.org/3/discover/movie?api_key=db05765d08db6d23fb65b5b22d8d704e&page=25&vote_count.gte=5000\n",
      "https://api.themoviedb.org/3/discover/movie?api_key=db05765d08db6d23fb65b5b22d8d704e&page=26&vote_count.gte=5000\n",
      "https://api.themoviedb.org/3/discover/movie?api_key=db05765d08db6d23fb65b5b22d8d704e&page=27&vote_count.gte=5000\n",
      "https://api.themoviedb.org/3/discover/movie?api_key=db05765d08db6d23fb65b5b22d8d704e&page=28&vote_count.gte=5000\n",
      "https://api.themoviedb.org/3/discover/movie?api_key=db05765d08db6d23fb65b5b22d8d704e&page=29&vote_count.gte=5000\n",
      "https://api.themoviedb.org/3/discover/movie?api_key=db05765d08db6d23fb65b5b22d8d704e&page=30&vote_count.gte=5000\n",
      "https://api.themoviedb.org/3/discover/movie?api_key=db05765d08db6d23fb65b5b22d8d704e&page=31&vote_count.gte=5000\n",
      "https://api.themoviedb.org/3/discover/movie?api_key=db05765d08db6d23fb65b5b22d8d704e&page=32&vote_count.gte=5000\n",
      "https://api.themoviedb.org/3/discover/movie?api_key=db05765d08db6d23fb65b5b22d8d704e&page=33&vote_count.gte=5000\n",
      "https://api.themoviedb.org/3/discover/movie?api_key=db05765d08db6d23fb65b5b22d8d704e&page=34&vote_count.gte=5000\n",
      "https://api.themoviedb.org/3/discover/movie?api_key=db05765d08db6d23fb65b5b22d8d704e&page=35&vote_count.gte=5000\n",
      "https://api.themoviedb.org/3/discover/movie?api_key=db05765d08db6d23fb65b5b22d8d704e&page=36&vote_count.gte=5000\n",
      "https://api.themoviedb.org/3/discover/movie?api_key=db05765d08db6d23fb65b5b22d8d704e&page=37&vote_count.gte=5000\n",
      "https://api.themoviedb.org/3/discover/movie?api_key=db05765d08db6d23fb65b5b22d8d704e&page=38&vote_count.gte=5000\n",
      "https://api.themoviedb.org/3/discover/movie?api_key=db05765d08db6d23fb65b5b22d8d704e&page=39&vote_count.gte=5000\n",
      "https://api.themoviedb.org/3/discover/movie?api_key=db05765d08db6d23fb65b5b22d8d704e&page=40&vote_count.gte=5000\n",
      "[76600, 315162, 634649, 324552, 458156, 361743, 616037, 766507, 299536, 19995, 453395, 245891, 568124, 414906, 411, 672, 767, 808, 674, 671, 287947, 312221, 673, 675, 324786, 385128, 580489, 791373, 12445, 150540, 14836, 1865, 24428, 12444, 22, 337167, 157336, 285, 299534, 566525, 216015, 537915, 597, 354912, 585, 106646, 198663, 524434, 58, 809, 384018, 372058, 296096, 337404, 10138, 102899, 38757, 423108, 49013, 399566, 10144, 460465, 520763, 293660, 640, 330457, 10192, 138843, 8587, 39254, 4935, 337339, 508943, 436969, 119450, 862, 260514, 122917, 99861, 18785, 177572, 207703, 425, 2062, 383498, 324857, 131631, 588228, 269149, 168259, 238, 490132, 550988, 810, 109445, 508442, 11688, 166426, 11224, 10674, 228150, 129, 12, 166428, 8966, 315635, 50014, 102382, 615457, 158852, 6479, 284053, 363088, 14160, 259693, 863, 454626, 68726, 438631, 450465, 120, 1930, 333339, 118, 497698, 429617, 744, 271110, 283995, 47971, 527774, 4232, 420818, 1726, 91314, 27205, 10195, 497, 278, 121, 254128, 122, 474350, 11, 343668, 24021, 214756, 10193, 62211, 72190, 98566, 93456, 557, 341174, 9502, 8355, 4247, 50620, 9552, 49051, 38365, 464052, 111, 87101, 439079, 61791, 281338, 155, 10020, 82690, 260346, 603, 70981, 45243, 920, 496243, 475557, 370172, 564, 246655, 20352, 284052, 76338, 396535, 242, 260513, 381284, 101299, 561, 335797, 141052, 335983, 335984, 35, 3933, 953, 209112, 109439, 140300, 62177, 50619, 559, 294254, 447332, 301528, 381288, 76341, 38700, 14161, 135397, 408, 420809, 351286, 68721, 102651, 131634, 9487, 345940, 337401, 75780, 57158, 263115, 10681, 11970, 82702, 350, 49026, 619264, 512200, 335988, 10191, 373571, 32657, 37135, 550, 8681, 339846, 11544, 857, 49444, 336843, 420817, 156022, 41154, 404368, 49519, 106, 240, 82675, 396422, 77338, 36557, 49521, 57214, 283366, 680, 299537, 257344, 9806, 297802, 150689, 950, 321612, 5915, 10527, 812, 1366, 190859, 1734, 13, 18239, 259316, 244786, 9325, 181812, 3170, 284054, 127585, 126889, 427641, 495764, 49530, 297762, 105, 348, 280, 140607, 1724, 38575, 181808, 57800, 12155, 8247, 238636, 11036, 72105, 19913, 51876, 27578, 240832, 50546, 1771, 22881, 60304, 447404, 37165, 98, 11324, 398818, 652, 1124, 44896, 46195, 76492, 218, 1954, 310, 8363, 307081, 250546, 242582, 534, 18823, 293167, 8392, 210577, 466272, 8960, 419430, 273481, 2105, 637, 402900, 577922, 353081, 18240, 4348, 20526, 8871, 10895, 608, 329865, 137113, 16869, 320288, 165, 49018, 47933, 607, 546554, 426, 12092, 1250, 399579, 8358, 9479, 1091, 10555, 353486, 2454, 50544, 807, 429, 81188, 87827, 103, 80321, 346364, 198184, 339403, 424, 44912, 56292, 489, 49529, 161, 14574, 1359, 527641, 241259, 18, 75656, 13053, 38055, 223702, 10625, 286217, 124905, 278927, 1813, 205596, 310131, 53182, 1271, 604, 454983, 772, 324852, 274857, 68718, 85, 118340, 602, 297761, 176, 64690, 13448, 262500, 264660, 2048, 854, 95, 493922, 89, 333484, 78, 359724, 200727, 296, 128, 949, 578, 12230, 679, 39513, 117263, 38, 24, 146233, 291805, 562, 127380, 159824, 348350, 181533, 28178, 86834, 222935, 101, 62, 281957, 1368, 676, 605, 13475, 19908, 87, 787, 70160, 769, 37724, 36647, 158015, 157350, 954, 270303, 466282, 646380, 300668, 114, 272, 162, 644, 10530, 389, 510, 254, 293863, 10140, 197, 600, 694, 188927, 22538, 76757, 424694, 138832, 4922, 74, 339964, 100402, 76493, 8909, 530385, 43074, 185, 17654, 530915, 621, 7131, 22970, 59967, 508439, 1571, 313369, 23483, 1572, 177677, 258489, 395992, 315837, 9543, 58595, 152601, 539, 628, 300669, 9340, 1893, 423, 217, 268, 256591, 1637, 1417, 72559, 1927, 207, 1402, 424783, 330459, 76163, 59859, 1894, 4951, 338952, 166424, 406990, 122906, 22794, 2501, 956, 435, 211672, 302699, 670, 393, 406997, 54138, 601, 13885, 5255, 955, 1892, 1824, 9737, 7191, 855, 390043, 1422, 745, 170, 13183, 28, 565, 63, 752, 1895, 57201, 10764, 2300, 228967, 405774, 316029, 137106, 1372, 302946, 49040, 616, 598, 65, 8467, 37686, 187017, 338970, 75612, 87502, 277, 334533, 84892, 497582, 10528, 331482, 68735, 206647, 1487, 82700, 207932, 110415, 861, 856, 58574, 4011, 629, 345, 332562, 453, 141, 88, 120467, 6977, 374720, 324668, 64688, 9741, 398978, 381283, 1949, 318846, 206487, 50646, 31011, 64682, 20504, 299687, 664413, 44115, 747, 334543, 515001, 73, 282035, 168672, 2668, 1573, 18360, 445571, 1933, 391713, 37799, 594, 9339, 274870, 47964, 2503, 96721, 121856, 591, 68724, 6957, 39514, 44214, 500, 49047, 77, 388, 1891, 492188, 109414, 333371, 2034, 364, 142, 68728, 399055, 1979, 195589, 755, 10201, 1593, 2108, 45612, 107, 203801, 558, 254320, 196, 194, 458723, 116745, 262504, 4638, 238713, 401981, 3049, 115, 194662, 39538, 9738, 76203, 37735, 235, 341013, 9693, 2502, 257211, 11631, 1018, 782, 2059, 298, 1597, 1576, 449176, 788, 14, 329, 277834, 70, 62213, 82693, 334541, 51540, 7446, 567, 389015, 290250, 509, 163, 49017, 392044, 80274, 340666, 2649, 3131, 44826, 1995, 322, 137, 400106, 7345, 440021, 927, 620, 83542, 273248, 8373, 570670, 627, 242224, 363676, 13223, 266856, 295693, 380, 80278, 328387, 180, 187, 114150, 153, 346685, 7326, 587, 65754, 9615, 314365, 376867, 12405, 109424, 762, 296098, 181886, 345920, 68734, 8488, 11321, 82654, 13804, 184, 264644, 359940, 275, 328111, 83666, 419704, 8844, 1858, 306819, 152532, 38356, 508, 59436, 51497, 17431, 641, 45269, 773, 82992, 487558, 9799, 274, 100, 76170, 584, 2080, 49538, 330, 771, 36657, 36668, 331, 36658]\n"
     ]
    }
   ],
   "source": [
    "id_lists = []\n",
    "movie_lists={}\n",
    "\n",
    "addpage=0\n",
    "for addpage in range(1 , 41):\n",
    "    url = f\"https://api.themoviedb.org/3/discover/movie?api_key={api_key_tmdb}&page={addpage}&vote_count.gte=5000\"\n",
    "    print(url)\n",
    "    # Send GET request to TMDb API\n",
    "    response = requests.get(url)\n",
    "    # Parse JSON response into dictionary\n",
    "    data = response.json()\n",
    "    # Extract movie results and add to movie list\n",
    "    results = data['results']\n",
    "    for result in results:\n",
    "        id_lists.append(result['id'])\n",
    "\n",
    "print(id_lists)\n",
    "\n",
    "# for decade, movie_list in movie_lists.items():\n",
    "#     # print(f'Top 50 movies of the {decade}:')\n",
    "#     for i, movie in enumerate(movie_list[:50]):\n",
    "#         print(f'.{movie}')\n",
    "#     print('\\n')\n"
   ]
  },
  {
   "cell_type": "code",
   "execution_count": 7,
   "metadata": {},
   "outputs": [
    {
     "name": "stdout",
     "output_type": "stream",
     "text": [
      "['tt1630029', 'tt3915174', 'tt10872600', 'tt4425200', 'tt6146586', 'tt1745960', 'tt10648342', 'tt11866324', 'tt4154756', 'tt0499549', 'tt9419884', 'tt2911666', 'tt2953050', 'tt1877830', 'tt0363771', 'tt0295297', 'tt0417741', 'tt0126029', 'tt0330373', 'tt0241527', 'tt0448115', 'tt3076658', 'tt0304141', 'tt0373889', 'tt2119532', 'tt5433138', 'tt7097896', 'tt12361974', 'tt1201607', 'tt2096673', 'tt0327597', 'tt1298650', 'tt0848228', 'tt0926084', 'tt0325980', 'tt4477536', 'tt0816692', 'tt0449088', 'tt4154796', 'tt9376612', 'tt2322441', 'tt4126476', 'tt0120338', 'tt2380307', 'tt0198781', 'tt0993846', 'tt1790864', 'tt9032400', 'tt0383574', 'tt0298148', 'tt6806448', 'tt5311514', 'tt2674426', 'tt3228774', 'tt1228705', 'tt0478970', 'tt0398286', 'tt7069210', 'tt1216475', 'tt5034838', 'tt0097757', 'tt0293429', 'tt8332922', 'tt1431045', 'tt0264464', 'tt4520988', 'tt0892791', 'tt1457767', 'tt0110357', 'tt0433035', 'tt0347149', 'tt4630562', 'tt12801262', 'tt6334354', 'tt2103281', 'tt0114709', 'tt3606752', 'tt2310332', 'tt2395427', 'tt1119646', 'tt2245084', 'tt2802144', 'tt0268380', 'tt0382932', 'tt5463162', 'tt4633694', 'tt1951265', 'tt9777666', 'tt2948356', 'tt2820852', 'tt0068646', 'tt6966692', 'tt6264654', 'tt0413267', 'tt2294629', 'tt2948372', 'tt0120917', 'tt1790809', 'tt0042332', 'tt0120762', 'tt2713180', 'tt0245429', 'tt0266543', 'tt2386490', 'tt1099212', 'tt2250912', 'tt1454029', 'tt1872181', 'tt7888964', 'tt1964418', 'tt0480249', 'tt3501632', 'tt5095030', 'tt1049413', 'tt3065204', 'tt0120363', 'tt3794354', 'tt1663662', 'tt1160419', 'tt6823368', 'tt0120737', 'tt0948470', 'tt1677720', 'tt0367594', 'tt3480822', 'tt6320628', 'tt0092099', 'tt3498820', 'tt3896198', 'tt1293847', 'tt5109280', 'tt0117571', 'tt6105098', 'tt0371746', 'tt2109248', 'tt1375666', 'tt0800369', 'tt0120689', 'tt0111161', 'tt0167261', 'tt2126355', 'tt0167260', 'tt7349950', 'tt0076759', 'tt4649466', 'tt1325004', 'tt2637276', 'tt0435761', 'tt1453405', 'tt0816711', 'tt1291150', 'tt1690953', 'tt0145487', 'tt4465564', 'tt0441773', 'tt1080016', 'tt0175142', 'tt1673434', 'tt0070047', 'tt0903624', 'tt1375670', 'tt7126948', 'tt0086250', 'tt1340138', 'tt5814060', 'tt1318514', 'tt3450958', 'tt0468569', 'tt0101414', 'tt1772341', 'tt2446042', 'tt0133093', 'tt1446714', 'tt1411697', 'tt0317219', 'tt6751668', 'tt7286456', 'tt2382320', 'tt0120616', 'tt3385516', 'tt1323594', 'tt1211837', 'tt1981115', 'tt5700672', 'tt0099674', 'tt3606756', 'tt4846340', 'tt1951264', 'tt0360486', 'tt3470600', 'tt0974015', 'tt1270797', 'tt1856101', 'tt0462538', 'tt0121164', 'tt0351283', 'tt2975590', 'tt1951261', 'tt2267968', 'tt1217209', 'tt1324999', 'tt0413300', 'tt4046784', 'tt6644200', 'tt1979376', 'tt4972582', 'tt1392190', 'tt1502397', 'tt1190080', 'tt0369610', 'tt0029583', 'tt4777008', 'tt4881806', 'tt1300854', 'tt1587310', 'tt1951266', 'tt0120623', 'tt4779682', 'tt4566758', 'tt0790724', 'tt1170358', 'tt3315342', 'tt0910970', 'tt0119282', 'tt1646971', 'tt0458352', 'tt1345836', 'tt8228288', 'tt7975244', 'tt3371366', 'tt0892769', 'tt3741700', 'tt0814255', 'tt0120855', 'tt0137523', 'tt0936501', 'tt1469304', 'tt0275847', 'tt0120815', 'tt1302011', 'tt4500922', 'tt6139732', 'tt0455944', 'tt1409024', 'tt5848272', 'tt0481499', 'tt0093773', 'tt0071562', 'tt1397280', 'tt5140878', 'tt1675434', 'tt0381061', 'tt0770828', 'tt1636826', 'tt1935859', 'tt0110912', 'tt4154664', 'tt2120120', 'tt0317705', 'tt1477834', 'tt1661199', 'tt0438097', 'tt2771200', 'tt0758758', 'tt0479952', 'tt0103639', 'tt0075148', 'tt2179136', 'tt0209163', 'tt0109830', 'tt1259571', 'tt3183660', 'tt2582802', 'tt0061852', 'tt2527338', 'tt0034492', 'tt1825683', 'tt1877832', 'tt2316204', 'tt2231461', 'tt7713068', 'tt1637688', 'tt0451279', 'tt0088763', 'tt0078748', 'tt0103064', 'tt2488496', 'tt0800080', 'tt1155076', 'tt2527336', 'tt1667889', 'tt1014759', 'tt0489099', 'tt2975578', 'tt0332280', 'tt1637725', 'tt1022603', 'tt1219289', 'tt1320253', 'tt2872732', 'tt1564367', 'tt0458339', 'tt0878804', 'tt1428538', 'tt5884052', 'tt0120382', 'tt0172495', 'tt1130884', 'tt5726616', 'tt0332452', 'tt0482571', 'tt1192628', 'tt1436562', 'tt0837562', 'tt0088247', 'tt0289879', 'tt0315327', 'tt0829482', 'tt1798684', 'tt3322940', 'tt2872718', 'tt0438488', 'tt0800320', 'tt3731562', 'tt0096283', 'tt2267998', 'tt7131622', 'tt0448157', 'tt5052448', 'tt3397884', 'tt0163651', 'tt0118799', 'tt5164214', 'tt6723592', 'tt4912910', 'tt1041829', 'tt0414387', 'tt1104001', 'tt0170016', 'tt0032910', 'tt0120912', 'tt2543164', 'tt1631867', 'tt0361748', 'tt6565702', 'tt0096874', 'tt1591095', 'tt1628841', 'tt0119654', 'tt8946378', 'tt0052357', 'tt0043274', 'tt0259324', 'tt0437086', 'tt0162222', 'tt0107688', 'tt0084787', 'tt0307453', 'tt2283362', 'tt0499448', 'tt1632708', 'tt0114369', 'tt0060196', 'tt1446192', 'tt0454876', 'tt0075314', 'tt1277953', 'tt1396484', 'tt1823672', 'tt3890160', 'tt0108052', 'tt1133985', 'tt1229238', 'tt0119217', 'tt0401729', 'tt0240772', 'tt0914798', 'tt0144084', 'tt6472976', 'tt2567026', 'tt0119116', 'tt1670345', 'tt0397892', 'tt1001526', 'tt1700841', 'tt0377092', 'tt3659388', 'tt0831387', 'tt3040964', 'tt0118971', 'tt2084970', 'tt4263482', 'tt1253863', 'tt0416449', 'tt0234215', 'tt3799232', 'tt0104431', 'tt3469046', 'tt1972591', 'tt1853728', 'tt0082971', 'tt2015381', 'tt0116629', 'tt1386697', 'tt0387564', 'tt0780504', 'tt0808151', 'tt2908446', 'tt0470752', 'tt0343818', 'tt0110475', 'tt0120591', 'tt7784604', 'tt0097576', 'tt2404435', 'tt0083658', 'tt1950186', 'tt1638002', 'tt0181852', 'tt0119698', 'tt0113277', 'tt0073195', 'tt0055254', 'tt0090605', 'tt1092026', 'tt2302755', 'tt0338013', 'tt0266697', 'tt1392214', 'tt3110958', 'tt0095016', 'tt2277860', 'tt2510894', 'tt3778644', 'tt2692250', 'tt1028532', 'tt1959490', 'tt2582846', 'tt0110413', 'tt0062622', 'tt1663202', 'tt0083944', 'tt0213149', 'tt0242653', 'tt0796366', 'tt1156398', 'tt0087469', 'tt0356910', 'tt1392170', 'tt0099685', 'tt1074638', 'tt0120611', 'tt2184339', 'tt1840309', 'tt0117060', 'tt3235888', 'tt3846674', 'tt11286314', 'tt2798920', 'tt0100405', 'tt0372784', 'tt0099487', 'tt0212720', 'tt0114148', 'tt0050083', 'tt0073486', 'tt0360717', 'tt1655441', 'tt0980970', 'tt0112573', 'tt0093058', 'tt0081505', 'tt2660888', 'tt0446029', 'tt1617661', 'tt1727824', 'tt1723121', 'tt0421715', 'tt0407304', 'tt2239822', 'tt1843866', 'tt1645170', 'tt0493464', 'tt8772262', 'tt1289401', 'tt0066921', 'tt1136608', 'tt8579674', 'tt0077631', 'tt0338526', 'tt1259521', 'tt1276104', 'tt7146812', 'tt0337978', 'tt3783958', 'tt1250777', 'tt0112864', 'tt2381249', 'tt0918940', 'tt5442430', 'tt1219827', 'tt0473075', 'tt1735898', 'tt1798709', 'tt0054215', 'tt0110148', 'tt4160708', 'tt0089218', 'tt0120915', 'tt0253474', 'tt0367882', 'tt0096895', 'tt2381941', 'tt0111257', 'tt0457430', 'tt1583421', 'tt0286716', 'tt0097165', 'tt0454921', 'tt4701182', 'tt3748528', 'tt1764651', 'tt1650554', 'tt0121765', 'tt0147800', 'tt4123430', 'tt1502712', 'tt1536537', 'tt2194499', 'tt0844471', 'tt0258463', 'tt0317919', 'tt0319262', 'tt2293640', 'tt1489889', 'tt0364569', 'tt0378194', 'tt2543472', 'tt1408101', 'tt0083866', 'tt0408236', 'tt0338348', 'tt0120755', 'tt0086190', 'tt0343660', 'tt0112442', 'tt1060277', 'tt0265086', 'tt1959563', 'tt0407887', 'tt0167404', 'tt0289043', 'tt0409459', 'tt0078788', 'tt0298130', 'tt0114746', 'tt0434409', 'tt0121766', 'tt1210819', 'tt0830515', 'tt0117705', 'tt2788710', 'tt2737304', 'tt1485796', 'tt1490017', 'tt0450259', 'tt2140479', 'tt1194173', 'tt0325710', 'tt0317248', 'tt0298203', 'tt0109686', 'tt1650062', 'tt2294449', 'tt1365519', 'tt1483013', 'tt1907668', 'tt0320691', 'tt3553976', 'tt1659337', 'tt7846844', 'tt0988045', 'tt3281548', 'tt0803096', 'tt2379713', 'tt0167190', 'tt1815862', 'tt3062096', 'tt1706620', 'tt0100802', 'tt0096438', 'tt1515091', 'tt0094721', 'tt0114814', 'tt0120663', 'tt1517451', 'tt0268978', 'tt0246578', 'tt0092890', 'tt2278388', 'tt0477348', 'tt5013056', 'tt4196776', 'tt1232829', 'tt0217869', 'tt1302006', 'tt5109784', 'tt0443706', 'tt1596363', 'tt2397535', 'tt1570728', 'tt0485947', 'tt1343092', 'tt1037705', 'tt2304933', 'tt10886166', 'tt1542344', 'tt0365748', 'tt3741834', 'tt2584384', 'tt0120586', 'tt2345759', 'tt1800241', 'tt0162661', 'tt0099423', 'tt1078912', 'tt2704998', 'tt0230600', 'tt4925292', 'tt1285016', 'tt0362227', 'tt0389860', 'tt1355644', 'tt1606378', 'tt0440963', 'tt1979320', 'tt2094766', 'tt0382625', 'tt1535108', 'tt0405422', 'tt1245526', 'tt0947798', 'tt0105236', 'tt1454468', 'tt0209144', 'tt0454848', 'tt0080684', 'tt7653254', 'tt1245492', 'tt1179933', 'tt0139654', 'tt0103776', 'tt0388795', 'tt1623205', 'tt5580390', 'tt0486576', 'tt2004420', 'tt0116367', 'tt1068680', 'tt0477347', 'tt0088847', 'tt0945513', 'tt0208092', 'tt1638355', 'tt0316654', 'tt3464902', 'tt0099088', 'tt0211915', 'tt6857112', 'tt0359950', 'tt3410834', 'tt0425112', 'tt3079380', 'tt2873282', 'tt0109040', 'tt0118715', 'tt2562232', 'tt1598778', 'tt0120667', 'tt2024544', 'tt1282140', 'tt0092005', 'tt2406566', 'tt0206634', 'tt0372183', 'tt2361509', 'tt0795421', 'tt0166924', 'tt0119177', 'tt0368891', 'tt0496806', 'tt0212338', 'tt0120804', 'tt5164432', 'tt0107614', 'tt0169547', 'tt0107290', 'tt3521164', 'tt0405159', 'tt1077368', 'tt1045658', 'tt4034228', 'tt1499658', 'tt0942385', 'tt0047396', 'tt5580036', 'tt3799694', 'tt0125439', 'tt0349903', 'tt0829150', 'tt3402236', 'tt1731141', 'tt4550098', 'tt0119174', 'tt0217505', 'tt0970179', 'tt0146316', 'tt0327056', 'tt0107048', 'tt5519340', 'tt0469494', 'tt5308322', 'tt0087363', 'tt0087332', 'tt1371111', 'tt3460252', 'tt1055369', 'tt1051906', 'tt0117951', 'tt2321549', 'tt3263904', 'tt1205489', 'tt2980516', 'tt3874544', 'tt0095953', 'tt1649419', 'tt3531824', 'tt0181689', 'tt0401792', 'tt1981677', 'tt0335266', 'tt3631112', 'tt0467406', 'tt0319061', 'tt1568346', 'tt0463985', 'tt1895587', 'tt4975722', 'tt1010048', 'tt1535109', 'tt0071853', 'tt3682448', 'tt2316411', 'tt4682786', 'tt1024648', 'tt0386588', 'tt0814314', 'tt1588173', 'tt1013752', 'tt0119396', 'tt3170832', 'tt5027774', 'tt0116282', 'tt2709768', 'tt1748122', 'tt2935510', 'tt0113497', 'tt0418279', 'tt0810819', 'tt0790636', 'tt1399103', 'tt0314331', 'tt1605783', 'tt1596343', 'tt1182345', 'tt0180093', 'tt1504320', 'tt0449059', 'tt1905041', 'tt7349662', 'tt0232500', 'tt0102926', 'tt0120735', 'tt1430132', 'tt0322259', 'tt0458525', 'tt1270798', 'tt0119567', 'tt0099785', 'tt0120903', 'tt0376994', 'tt0163025', 'tt0290334']\n"
     ]
    }
   ],
   "source": [
    "imdb_ids = []\n",
    "\n",
    "for id in id_lists:\n",
    "    url_concatenated = f\"https://api.themoviedb.org/3/movie/{id}?api_key={api_key_tmdb}&language=en-US\"\n",
    "    response2 = requests.get(url_concatenated)\n",
    "    data2 = response2.json()\n",
    "    imdb_ids.append(data2['imdb_id'])\n",
    "\n",
    "    # for result in results2:\n",
    "    #     imdb_ids.append(result['imdb_id'])\n",
    "        \n",
    "\n",
    "print(imdb_ids)"
   ]
  },
  {
   "cell_type": "code",
   "execution_count": 8,
   "metadata": {},
   "outputs": [
    {
     "data": {
      "text/plain": [
       "793"
      ]
     },
     "execution_count": 8,
     "metadata": {},
     "output_type": "execute_result"
    }
   ],
   "source": [
    "len(imdb_ids)"
   ]
  },
  {
   "cell_type": "code",
   "execution_count": 9,
   "metadata": {},
   "outputs": [
    {
     "name": "stdout",
     "output_type": "stream",
     "text": [
      "0\n"
     ]
    }
   ],
   "source": [
    "count_of_none = 0\n",
    "for element in imdb_ids:\n",
    "    if element == 'None':\n",
    "        count_of_none += 1\n",
    "print(count_of_none)"
   ]
  },
  {
   "cell_type": "code",
   "execution_count": 10,
   "metadata": {},
   "outputs": [
    {
     "name": "stdout",
     "output_type": "stream",
     "text": [
      "['tt3402236', 'tt1748122', 'tt0448157', 'tt3469046', 'tt0903624', 'tt0081505', 'tt1080016', 'tt0070047', 'tt1001526', 'tt2567026', 'tt1596363', 'tt0480249', 'tt0413267', 'tt0120855', 'tt0450259', 'tt3371366', 'tt5311514', 'tt1675434', 'tt1078912', 'tt1542344', 'tt1289401', 'tt0367594', 'tt0066921', 'tt2948356', 'tt1340138', 'tt0119177', 'tt3748528', 'tt1375670', 'tt0209163', 'tt0307453', 'tt2381249', 'tt0083944', 'tt7846844', 'tt0061852', 'tt0803096', 'tt0118715', 'tt0068646', 'tt6146586', 'tt0162222', 'tt0116282', 'tt1877832', 'tt0120623', 'tt0446029', 'tt2386490', 'tt1815862', 'tt1431045', 'tt0482571', 'tt1010048', 'tt1201607', 'tt0435761', 'tt2488496', 'tt3606756', 'tt1325004', 'tt3281548', 'tt4500922', 'tt0993846', 'tt5884052', 'tt1302011', 'tt1259521', 'tt1637725', 'tt1375666', 'tt0458352', 'tt0119217', 'tt1160419', 'tt3915174', 'tt2345759', 'tt0107290', 'tt9777666', 'tt2820852', 'tt0814314', 'tt2582846', 'tt0377092', 'tt1951264', 'tt0120755', 'tt7126948', 'tt0463985', 'tt0489099', 'tt1396484', 'tt3874544', 'tt5140878', 'tt0258463', 'tt0117060', 'tt1371111', 'tt2935510', 'tt1979320', 'tt1727824', 'tt0120611', 'tt2184339', 'tt0076759', 'tt0275847', 'tt1192628', 'tt0416449', 'tt0407887', 'tt0087332', 'tt5164214', 'tt1022603', 'tt0780504', 'tt1219827', 'tt0363771', 'tt0112442', 'tt2004420', 'tt0790636', 'tt1764651', 'tt7784604', 'tt0075148', 'tt1663202', 'tt0082971', 'tt1454468', 'tt0042332', 'tt1250777', 'tt0382625', 'tt7713068', 'tt0499549', 'tt0945513', 'tt2713180', 'tt0034492', 'tt0421715', 'tt5442430', 'tt0320691', 'tt0080684', 'tt0120804', 'tt0970179', 'tt1446192', 'tt0493464', 'tt2872718', 'tt0470752', 'tt0060196', 'tt0118799', 'tt0097576', 'tt12361974', 'tt1386697', 'tt0083658', 'tt1959563', 'tt6644200', 'tt1499658', 'tt0166924', 'tt1259571', 'tt1907668', 'tt3498820', 'tt0062622', 'tt0137523', 'tt1650062', 'tt3606752', 'tt0121164', 'tt3062096', 'tt0332452', 'tt0175142', 'tt1074638', 'tt5034838', 'tt0372183', 'tt0848228', 'tt1055369', 'tt1840309', 'tt0120903', 'tt2094766', 'tt1453405', 'tt0317248', 'tt0795421', 'tt6472976', 'tt0371746', 'tt1483013', 'tt1245492', 'tt4550098', 'tt1663662', 'tt0029583', 'tt0097757', 'tt1397280', 'tt2975578', 'tt0133093', 'tt0942385', 'tt1606378', 'tt0473075', 'tt1568346', 'tt1670345', 'tt0844471', 'tt0438097', 'tt1324999', 'tt1211837', 'tt1024648', 'tt2361509', 'tt1649419', 'tt0770828', 'tt1856101', 'tt1564367', 'tt1219289', 'tt0120915', 'tt0043274', 'tt0113277', 'tt1645170', 'tt0163651', 'tt0120616', 'tt0338348', 'tt0167190', 'tt5095030', 'tt4196776', 'tt2278388', 'tt2873282', 'tt0245429', 'tt6139732', 'tt4154664', 'tt2948372', 'tt0368891', 'tt1399103', 'tt3553976', 'tt2302755', 'tt5848272', 'tt0918940', 'tt1077368', 'tt2584384', 'tt4263482', 'tt3040964', 'tt2798920', 'tt1583421', 'tt1408101', 'tt0120667', 'tt0103639', 'tt0467406', 'tt1700841', 'tt0485947', 'tt0110475', 'tt1972591', 'tt1723121', 'tt0408236', 'tt0126029', 'tt1731141', 'tt0468569', 'tt0327056', 'tt2294629', 'tt1409024', 'tt1049413', 'tt0317919', 'tt0099785', 'tt0386588', 'tt2304933', 'tt1798684', 'tt3263904', 'tt0099088', 'tt1661199', 'tt3235888', 'tt5433138', 'tt0078748', 'tt0910970', 'tt4777008', 'tt0120382', 'tt0088247', 'tt0119567', 'tt7097896', 'tt0372784', 'tt0298148', 'tt2267998', 'tt0388795', 'tt1190080', 'tt0075314', 'tt1517451', 'tt3799694', 'tt0417741', 'tt3460252', 'tt5013056', 'tt0365748', 'tt0147800', 'tt0087363', 'tt0477347', 'tt0343660', 'tt10886166', 'tt0418279', 'tt1285016', 'tt0947798', 'tt3397884', 'tt1735898', 'tt0387564', 'tt1800241', 'tt1536537', 'tt0914798', 'tt0974015', 'tt1068680', 'tt5580036', 'tt2404435', 'tt3501632', 'tt2277860', 'tt1028532', 'tt0325710', 'tt5308322', 'tt0112573', 'tt3076658', 'tt2119532', 'tt0878804', 'tt1790864', 'tt4633694', 'tt3410834', 'tt0443706', 'tt0112864', 'tt1659337', 'tt0295297', 'tt0829482', 'tt1136608', 'tt0125439', 'tt0121765', 'tt1099212', 'tt1598778', 'tt3682448', 'tt2953050', 'tt0440963', 'tt0145487', 'tt4520988', 'tt1853728', 'tt0114148', 'tt0830515', 'tt1638355', 'tt1454029', 'tt0808151', 'tt0335266', 'tt4034228', 'tt3531824', 'tt6320628', 'tt2543472', 'tt1515091', 'tt2194499', 'tt1045658', 'tt0438488', 'tt0146316', 'tt0111257', 'tt7069210', 'tt1469304', 'tt9419884', 'tt0105236', 'tt0425112', 'tt0114814', 'tt0327597', 'tt4154756', 'tt1935859', 'tt0389860', 'tt1428538', 'tt5027774', 'tt0499448', 'tt3896198', 'tt1300854', 'tt1673434', 'tt0119116', 'tt1430132', 'tt3778644', 'tt6823368', 'tt1182345', 'tt6966692', 'tt3783958', 'tt1979376', 'tt1772341', 'tt2140479', 'tt0090605', 'tt0120737', 'tt0298203', 'tt0232500', 'tt1502712', 'tt1253863', 'tt0089218', 'tt0110357', 'tt0441773', 'tt0478970', 'tt4779682', 'tt0099685', 'tt1877830', 'tt0814255', 'tt0367882', 'tt4649466', 'tt0413300', 'tt1667889', 'tt0119698', 'tt1605783', 'tt1013752', 'tt0108052', 'tt0455944', 'tt1092026', 'tt0097165', 'tt4425200', 'tt1130884', 'tt0892791', 'tt0110912', 'tt0120912', 'tt4972582', 'tt1637688', 'tt8946378', 'tt5164432', 'tt1270797', 'tt0454848', 'tt4046784', 'tt1037705', 'tt0071853', 'tt0347149', 'tt10872600', 'tt2446042', 'tt0096874', 'tt0234215', 'tt0217869', 'tt0118971', 'tt0114746', 'tt0360486', 'tt0330373', 'tt3659388', 'tt0319262', 'tt1981115', 'tt3385516', 'tt2096673', 'tt0240772', 'tt0121766', 'tt1485796', 'tt0892769', 'tt0107688', 'tt0104431', 'tt0454876', 'tt0088847', 'tt6565702', 'tt0264464', 'tt0268380', 'tt3470600', 'tt1502397', 'tt1631867', 'tt6806448', 'tt1790809', 'tt0144084', 'tt2704998', 'tt5109784', 'tt0096283', 'tt0213149', 'tt6105098', 'tt0351283', 'tt4123430', 'tt0382932', 'tt1951265', 'tt6857112', 'tt2231461', 'tt0094721', 'tt4925292', 'tt5052448', 'tt0169547', 'tt0099423', 'tt0457430', 'tt0095016', 'tt2582802', 'tt1951261', 'tt1504320', 'tt0120586', 'tt0369610', 'tt0096438', 'tt0800320', 'tt0322259', 'tt0361748', 'tt1596343', 'tt0486576', 'tt0796366', 'tt0117571', 'tt0054215', 'tt0110413', 'tt0298130', 'tt0332280', 'tt0212720', 'tt1959490', 'tt2562232', 'tt2395427', 'tt0810819', 'tt2527338', 'tt2316204', 'tt0458339', 'tt0242653', 'tt0095953', 'tt3631112', 'tt0496806', 'tt1345836', 'tt0217505', 'tt3183660', 'tt2908446', 'tt0117705', 'tt1392214', 'tt3480822', 'tt2382320', 'tt0477348', 'tt2379713', 'tt2316411', 'tt0293429', 'tt9376612', 'tt12801262', 'tt0119282', 'tt0120591', 'tt0362227', 'tt2397535', 'tt1170358', 'tt0167404', 'tt0790724', 'tt1228705', 'tt0162661', 'tt3170832', 'tt0116629', 'tt3079380', 'tt0829150', 'tt0319061', 'tt1270798', 'tt0086250', 'tt1843866', 'tt1194173', 'tt1392170', 'tt0107614', 'tt3741834', 'tt0980970', 'tt1205489', 'tt4630562', 'tt0437086', 'tt1155076', 'tt0314331', 'tt1477834', 'tt0093058', 'tt2321549', 'tt1895587', 'tt3890160', 'tt3228774', 'tt0114709', 'tt1951266', 'tt0253474', 'tt1457767', 'tt3450958', 'tt1291150', 'tt0092890', 'tt9032400', 'tt1588173', 'tt1981677', 'tt2975590', 'tt1823672', 'tt0434409', 'tt3315342', 'tt1179933', 'tt1217209', 'tt0481499', 'tt0926084', 'tt1210819', 'tt0077631', 'tt4126476', 'tt0167260', 'tt0433035', 'tt7131622', 'tt0758758', 'tt2322441', 'tt1535108', 'tt4912910', 'tt0289043', 'tt6264654', 'tt4465564', 'tt0083866', 'tt0948470', 'tt5700672', 'tt0167261', 'tt0109830', 'tt2294449', 'tt7146812', 'tt4566758', 'tt0246578', 'tt0181852', 'tt1646971', 'tt1302006', 'tt2380307', 'tt0378194', 'tt0099487', 'tt0163025', 'tt2692250', 'tt0209144', 'tt4881806', 'tt0212338', 'tt6334354', 'tt1392190', 'tt0088763', 'tt0479952', 'tt5726616', 'tt1051906', 'tt1690953', 'tt0073195', 'tt0458525', 'tt0120762', 'tt1617661', 'tt1950186', 'tt0120363', 'tt2527336', 'tt2872732', 'tt0259324', 'tt0837562', 'tt0401729', 'tt0103064', 'tt1436562', 'tt0364569', 'tt1014759', 'tt0107048', 'tt4975722', 'tt3741700', 'tt1323594', 'tt0360717', 'tt0290334', 'tt0120689', 'tt2637276', 'tt0120917', 'tt0078788', 'tt1119646', 'tt2802144', 'tt1320253', 'tt5519340', 'tt1060277', 'tt0266697', 'tt0356910', 'tt6723592', 'tt4846340', 'tt0180093', 'tt0405422', 'tt0317705', 'tt1587310', 'tt7349950', 'tt7286456', 'tt8332922', 'tt0206634', 'tt3794354', 'tt0093773', 'tt2709768', 'tt0343818', 'tt3065204', 'tt1630029', 'tt1636826', 'tt0286716', 'tt7349662', 'tt7975244', 'tt0316654', 'tt1535109', 'tt0469494', 'tt0084787', 'tt0383574', 'tt4701182', 'tt0401792', 'tt0338013', 'tt0448115', 'tt3731562', 'tt2103281', 'tt0103776', 'tt1490017', 'tt1282140', 'tt0198781', 'tt2250912', 'tt0050083', 'tt1638002', 'tt1355644', 'tt0414387', 'tt1623205', 'tt3110958', 'tt0265086', 'tt0113497', 'tt4154796', 'tt2126355', 'tt0988045', 'tt1298650', 'tt0407304', 'tt1446714', 'tt0055254', 'tt0170016', 'tt0325980', 'tt1872181', 'tt0032910', 'tt1632708', 'tt6751668', 'tt1706620', 'tt3799232', 'tt1825683', 'tt0181689', 'tt2980516', 'tt0405159', 'tt2510894', 'tt2120120', 'tt1104001', 'tt0268978', 'tt0102926', 'tt2737304', 'tt1245526', 'tt1489889', 'tt0110148', 'tt0304141', 'tt0172495', 'tt3464902', 'tt0315327', 'tt2911666', 'tt4682786', 'tt0139654', 'tt1591095', 'tt1216475', 'tt0376994', 'tt0117951', 'tt0373889', 'tt5814060', 'tt2109248', 'tt0086190', 'tt7888964', 'tt2283362', 'tt0449059', 'tt1156398', 'tt0120338', 'tt0100405', 'tt2293640', 'tt0120663', 'tt1628841', 'tt0230600', 'tt0289879', 'tt0816711', 'tt1745960', 'tt0831387', 'tt2660888', 'tt0449088', 'tt1964418', 'tt11866324', 'tt1318514', 'tt11286314', 'tt0047396', 'tt0109040', 'tt8772262', 'tt1905041', 'tt0100802', 'tt1229238', 'tt0397892', 'tt0409459', 'tt2674426', 'tt1133985', 'tt2406566', 'tt0816692', 'tt3322940', 'tt1041829', 'tt0317219', 'tt0800080', 'tt1343092', 'tt1365519', 'tt0241527', 'tt0337978', 'tt0109686', 'tt2179136', 'tt0111161', 'tt0114369', 'tt0454921', 'tt0800369', 'tt0092099', 'tt3846674', 'tt0101414', 'tt0462538', 'tt0099674', 'tt1650554', 'tt5463162', 'tt4477536', 'tt1293847', 'tt2381941', 'tt5580390', 'tt0120735', 'tt3521164', 'tt2015381', 'tt0087469', 'tt0092005', 'tt5109280', 'tt1232829', 'tt0349903', 'tt2543164', 'tt2771200', 'tt0381061', 'tt0052357', 'tt0119174', 'tt0211915', 'tt0936501', 'tt2245084', 'tt8579674', 'tt0398286', 'tt2267968', 'tt2239822', 'tt7653254', 'tt0208092', 'tt1677720', 'tt0073486', 'tt1277953', 'tt1276104', 'tt0071562', 'tt0338526', 'tt1798709', 'tt10648342', 'tt0266543', 'tt8228288', 'tt1411697', 'tt2310332', 'tt4160708', 'tt1570728', 'tt0116367', 'tt0119654', 'tt1655441', 'tt2788710', 'tt0451279', 'tt0119396', 'tt2084970', 'tt0359950', 'tt0120815', 'tt0096895', 'tt2024544']\n"
     ]
    },
    {
     "data": {
      "text/plain": [
       "793"
      ]
     },
     "execution_count": 10,
     "metadata": {},
     "output_type": "execute_result"
    }
   ],
   "source": [
    "unique_array = list(set(imdb_ids))\n",
    "print(unique_array)\n",
    "len(unique_array)"
   ]
  },
  {
   "cell_type": "code",
   "execution_count": 11,
   "metadata": {},
   "outputs": [
    {
     "data": {
      "text/html": [
       "<div>\n",
       "<style scoped>\n",
       "    .dataframe tbody tr th:only-of-type {\n",
       "        vertical-align: middle;\n",
       "    }\n",
       "\n",
       "    .dataframe tbody tr th {\n",
       "        vertical-align: top;\n",
       "    }\n",
       "\n",
       "    .dataframe thead th {\n",
       "        text-align: right;\n",
       "    }\n",
       "</style>\n",
       "<table border=\"1\" class=\"dataframe\">\n",
       "  <thead>\n",
       "    <tr style=\"text-align: right;\">\n",
       "      <th></th>\n",
       "      <th>0</th>\n",
       "    </tr>\n",
       "  </thead>\n",
       "  <tbody>\n",
       "    <tr>\n",
       "      <th>0</th>\n",
       "      <td>tt1630029</td>\n",
       "    </tr>\n",
       "    <tr>\n",
       "      <th>1</th>\n",
       "      <td>tt3915174</td>\n",
       "    </tr>\n",
       "    <tr>\n",
       "      <th>2</th>\n",
       "      <td>tt10872600</td>\n",
       "    </tr>\n",
       "    <tr>\n",
       "      <th>3</th>\n",
       "      <td>tt4425200</td>\n",
       "    </tr>\n",
       "    <tr>\n",
       "      <th>4</th>\n",
       "      <td>tt6146586</td>\n",
       "    </tr>\n",
       "    <tr>\n",
       "      <th>...</th>\n",
       "      <td>...</td>\n",
       "    </tr>\n",
       "    <tr>\n",
       "      <th>788</th>\n",
       "      <td>tt0099785</td>\n",
       "    </tr>\n",
       "    <tr>\n",
       "      <th>789</th>\n",
       "      <td>tt0120903</td>\n",
       "    </tr>\n",
       "    <tr>\n",
       "      <th>790</th>\n",
       "      <td>tt0376994</td>\n",
       "    </tr>\n",
       "    <tr>\n",
       "      <th>791</th>\n",
       "      <td>tt0163025</td>\n",
       "    </tr>\n",
       "    <tr>\n",
       "      <th>792</th>\n",
       "      <td>tt0290334</td>\n",
       "    </tr>\n",
       "  </tbody>\n",
       "</table>\n",
       "<p>793 rows × 1 columns</p>\n",
       "</div>"
      ],
      "text/plain": [
       "              0\n",
       "0     tt1630029\n",
       "1     tt3915174\n",
       "2    tt10872600\n",
       "3     tt4425200\n",
       "4     tt6146586\n",
       "..          ...\n",
       "788   tt0099785\n",
       "789   tt0120903\n",
       "790   tt0376994\n",
       "791   tt0163025\n",
       "792   tt0290334\n",
       "\n",
       "[793 rows x 1 columns]"
      ]
     },
     "execution_count": 11,
     "metadata": {},
     "output_type": "execute_result"
    }
   ],
   "source": [
    "imdb_id_df=pd.DataFrame(imdb_ids)\n",
    "imdb_id_df"
   ]
  },
  {
   "attachments": {},
   "cell_type": "markdown",
   "metadata": {},
   "source": [
    "# OMDB"
   ]
  },
  {
   "cell_type": "code",
   "execution_count": 12,
   "metadata": {},
   "outputs": [],
   "source": [
    "# Note that the ?t= is a query param for the t-itle of the\n",
    "# movie we want to search for.\n",
    "url_omdb = \"http://www.omdbapi.com/?i=\""
   ]
  },
  {
   "cell_type": "code",
   "execution_count": 13,
   "metadata": {},
   "outputs": [],
   "source": [
    "# Performing a GET request similar to the one we executed\n",
    "# earlier\n",
    "\n",
    "for id in range(21):\n",
    "    omdb_url = f\"http://www.omdbapi.com/?i={imdb_ids[id]}&apikey={api_key_omdb}\"\n",
    "# id= 'tt0401792'\n",
    "# url=f'http://www.omdbapi.com/?i={id}&apikey={api_key_omdb}'\n",
    "# print(url)\n",
    "\n",
    "\n",
    "response2 = requests.get(omdb_url)"
   ]
  },
  {
   "cell_type": "code",
   "execution_count": 14,
   "metadata": {},
   "outputs": [
    {
     "name": "stdout",
     "output_type": "stream",
     "text": [
      "{'Actors': 'Zachary Levi, Mark Strong, Asher Angel',\n",
      " 'Awards': '28 nominations',\n",
      " 'BoxOffice': '$140,480,049',\n",
      " 'Country': 'United States, Canada',\n",
      " 'DVD': '02 Jul 2019',\n",
      " 'Director': 'David F. Sandberg',\n",
      " 'Genre': 'Action, Adventure, Comedy',\n",
      " 'Language': 'English, Spanish',\n",
      " 'Metascore': '71',\n",
      " 'Plot': 'A newly fostered young boy in search of his mother instead finds '\n",
      "         'unexpected super powers and soon gains a powerful enemy.',\n",
      " 'Poster': 'https://m.media-amazon.com/images/M/MV5BOWZhZjE4NGQtODg5Ni00MjQ1LWJmMzAtNzQ2N2M1NzYzMDJkXkEyXkFqcGdeQXVyMjMwNDgzNjc@._V1_SX300.jpg',\n",
      " 'Production': 'N/A',\n",
      " 'Rated': 'PG-13',\n",
      " 'Ratings': [{'Source': 'Internet Movie Database', 'Value': '7.0/10'},\n",
      "             {'Source': 'Rotten Tomatoes', 'Value': '90%'},\n",
      "             {'Source': 'Metacritic', 'Value': '71/100'}],\n",
      " 'Released': '05 Apr 2019',\n",
      " 'Response': 'True',\n",
      " 'Runtime': '132 min',\n",
      " 'Title': 'Shazam!',\n",
      " 'Type': 'movie',\n",
      " 'Website': 'N/A',\n",
      " 'Writer': 'Henry Gayden, Darren Lemke, Bill Parker',\n",
      " 'Year': '2019',\n",
      " 'imdbID': 'tt0448115',\n",
      " 'imdbRating': '7.0',\n",
      " 'imdbVotes': '351,832'}\n"
     ]
    }
   ],
   "source": [
    "# Converting the response to JSON, and printing the result.\n",
    "data_omdb = response2.json()\n",
    "pprint(data_omdb)"
   ]
  },
  {
   "attachments": {},
   "cell_type": "markdown",
   "metadata": {},
   "source": [
    "# MONGO for OMDB"
   ]
  },
  {
   "cell_type": "code",
   "execution_count": 15,
   "metadata": {},
   "outputs": [],
   "source": [
    "from pymongo import MongoClient"
   ]
  },
  {
   "cell_type": "code",
   "execution_count": 16,
   "metadata": {},
   "outputs": [],
   "source": [
    "# Create an instance of MongoClient\n",
    "mongo = MongoClient(port=27017)"
   ]
  },
  {
   "cell_type": "code",
   "execution_count": 17,
   "metadata": {},
   "outputs": [
    {
     "name": "stdout",
     "output_type": "stream",
     "text": [
      "['admin', 'autosaurus', 'classDB', 'config', 'epa', 'fruits_db', 'local', 'met', 'petsitly_marketing', 'uk_food']\n"
     ]
    }
   ],
   "source": [
    "# confirm that our new database was created\n",
    "print(mongo.list_database_names())"
   ]
  },
  {
   "cell_type": "code",
   "execution_count": 18,
   "metadata": {},
   "outputs": [],
   "source": [
    "# assign the database to a variable name\n",
    "movies_db = mongo['movies']"
   ]
  },
  {
   "cell_type": "code",
   "execution_count": 19,
   "metadata": {},
   "outputs": [],
   "source": [
    "# assign the collection to a variable\n",
    "MovieInfo_omdb = movies_db['MovieInfo_omdb']"
   ]
  },
  {
   "cell_type": "code",
   "execution_count": 20,
   "metadata": {},
   "outputs": [],
   "source": [
    "for id in range(len(imdb_ids)):\n",
    "    test_url = f\"http://www.omdbapi.com/?i={imdb_ids[id]}&apikey={api_key_omdb}\"\n",
    "    test_req=requests.get(test_url)\n",
    "    test_req_2 = test_req.json()\n",
    "    MovieInfo_omdb.insert_one(test_req_2)\n"
   ]
  },
  {
   "attachments": {},
   "cell_type": "markdown",
   "metadata": {},
   "source": [
    "# MONGO for TMD"
   ]
  },
  {
   "cell_type": "code",
   "execution_count": 21,
   "metadata": {},
   "outputs": [],
   "source": [
    "# assign the collection to a variable\n",
    "MovieInfo_tmdb2 = movies_db['MovieInfo_tmdb2']"
   ]
  },
  {
   "cell_type": "code",
   "execution_count": 22,
   "metadata": {},
   "outputs": [],
   "source": [
    "for id in range(len(id_lists)):\n",
    "    test_url=f\"https://api.themoviedb.org/3/movie/{id_lists[id]}?api_key={api_key_tmdb}&language=en-US\"\n",
    "    test_req=requests.get(test_url)\n",
    "    test_req_2 = test_req.json()\n",
    "    movie_dict = {}\n",
    "\n",
    "    movie_dict['imdbID']=test_req_2['imdb_id']\n",
    "    movie_dict['Vote Average']=test_req_2['vote_average']\n",
    "    movie_dict['Vote Count']=test_req_2['vote_count']\n",
    "    \n",
    "    MovieInfo_tmdb2.insert_one(movie_dict)\n",
    "\n",
    "# len(id_lists)"
   ]
  }
 ],
 "metadata": {
  "kernelspec": {
   "display_name": "Python 3",
   "language": "python",
   "name": "python3"
  },
  "language_info": {
   "codemirror_mode": {
    "name": "ipython",
    "version": 3
   },
   "file_extension": ".py",
   "mimetype": "text/x-python",
   "name": "python",
   "nbconvert_exporter": "python",
   "pygments_lexer": "ipython3",
   "version": "3.7.7"
  },
  "varInspector": {
   "cols": {
    "lenName": 16,
    "lenType": 16,
    "lenVar": 40
   },
   "kernels_config": {
    "python": {
     "delete_cmd_postfix": "",
     "delete_cmd_prefix": "del ",
     "library": "var_list.py",
     "varRefreshCmd": "print(var_dic_list())"
    },
    "r": {
     "delete_cmd_postfix": ") ",
     "delete_cmd_prefix": "rm(",
     "library": "var_list.r",
     "varRefreshCmd": "cat(var_dic_list()) "
    }
   },
   "types_to_exclude": [
    "module",
    "function",
    "builtin_function_or_method",
    "instance",
    "_Feature"
   ],
   "window_display": false
  }
 },
 "nbformat": 4,
 "nbformat_minor": 2
}
